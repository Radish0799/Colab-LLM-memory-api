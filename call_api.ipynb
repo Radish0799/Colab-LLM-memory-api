{
  "nbformat": 4,
  "nbformat_minor": 0,
  "metadata": {
    "colab": {
      "provenance": []
    },
    "kernelspec": {
      "name": "python3",
      "display_name": "Python 3"
    },
    "language_info": {
      "name": "python"
    }
  },
  "cells": [
    {
      "cell_type": "code",
      "execution_count": 24,
      "metadata": {
        "id": "XoGR2QxcFwlD"
      },
      "outputs": [],
      "source": [
        "import requests\n",
        "import json\n",
        "import os"
      ]
    },
    {
      "cell_type": "code",
      "source": [
        "API_URL = \"API_URL\""
      ],
      "metadata": {
        "id": "mKy9V_eDbr2d"
      },
      "execution_count": 36,
      "outputs": []
    },
    {
      "cell_type": "code",
      "source": [
        "def add_conversation_to_memory(user_input: str, assistant_response: str, user_id: str = \"default\"):\n",
        "  \"\"\"記憶サービスに会話履歴を追加する\"\"\"\n",
        "  url = f\"{API_URL}/api/add\"\n",
        "  payload = {\n",
        "    \"user_input\": user_input,\n",
        "    \"assistant_response\": assistant_response,\n",
        "    \"user_id\": user_id\n",
        "  }\n",
        "  try:\n",
        "    response = requests.post(url, json=payload)\n",
        "    response.raise_for_status()\n",
        "    return response.json()\n",
        "  except requests.exceptions.RequestException as e:\n",
        "    print(f\"会話の追加に失敗しました: {e}\")\n",
        "    return None\n",
        "\n",
        "def query_memory_for_similar_conversations(query: str, user_id: str = \"default\", top_k: int = 3):\n",
        "  \"\"\"記憶サービスから類似の会話履歴を検索する\"\"\"\n",
        "  url = f\"{API_URL}/api/query\"\n",
        "  payload = {\n",
        "    \"query\": query,\n",
        "    \"user_id\": user_id,\n",
        "    \"top_k\": top_k\n",
        "  }\n",
        "  try:\n",
        "    response = requests.post(url, json=payload)\n",
        "    response.raise_for_status()\n",
        "    return response.json()\n",
        "  except requests.exceptions.RequestException as e:\n",
        "    print(f\"記憶の検索に失敗しました: {e}\")\n",
        "    return None\n",
        "\n",
        "def get_memory_stats():\n",
        "  \"\"\"記憶サービスの統計情報を取得する\"\"\"\n",
        "  url = f\"{API_URL}/api/stats\"\n",
        "  try:\n",
        "    response = requests.get(url)\n",
        "    response.raise_for_status()\n",
        "    return response.json()\n",
        "  except requests.exceptions.RequestException as e:\n",
        "    print(f\"統計情報の取得に失敗しました: {e}\")\n",
        "    return None\n",
        "\n",
        "def health_check():\n",
        "  health_url = f\"{API_URL}/api/health\"\n",
        "  try:\n",
        "    response = requests.get(health_url)\n",
        "    response.raise_for_status()\n",
        "    health_status = response.json()\n",
        "    print(f\"ステータス: {json.dumps(health_status, indent=2)}\")\n",
        "    return health_status.get(\"status\") == \"healthy\"\n",
        "  except requests.exceptions.RequestException as e:\n",
        "    print(f\"失敗: {e}\")\n",
        "    return False"
      ],
      "metadata": {
        "id": "oYvaPRlKF3IG"
      },
      "execution_count": 38,
      "outputs": []
    },
    {
      "cell_type": "code",
      "source": [
        "# いくつかの会話を記憶に追加する\n",
        "add_result1 = add_conversation_to_memory(\"私はりんごを食べるのが好きです。\", \"はい、わかりました。\", user_id=\"user123\")\n",
        "print(f\"追加結果1: {json.dumps(add_result1, indent=2)}\")\n",
        "\n",
        "add_result2 = add_conversation_to_memory(\"ルビィちゃん！\", \"はい～\", user_id=\"user123\")\n",
        "print(f\"追加結果2: {json.dumps(add_result2, indent=2)}\")\n",
        "\n",
        "add_result3 = add_conversation_to_memory(\"何が好き?\", \"チョコミントよりも あ・な・た！\", user_id=\"user456\")\n",
        "print(f\"追加結果3: {json.dumps(add_result3, indent=2)}\")"
      ],
      "metadata": {
        "colab": {
          "base_uri": "https://localhost:8080/"
        },
        "id": "CzrdwKfzGwm-",
        "outputId": "43b58684-b1b6-43d1-99c1-14986d61b40a"
      },
      "execution_count": 40,
      "outputs": [
        {
          "output_type": "stream",
          "name": "stdout",
          "text": [
            "追加結果1: {\n",
            "  \"message\": \"\\u4f1a\\u8a71\\u5c65\\u6b74\\u304c\\u8ffd\\u52a0\\u3055\\u308c\\u307e\\u3057\\u305f\",\n",
            "  \"status\": \"success\",\n",
            "  \"timestamp\": \"2025-06-04T19:37:16.821870\",\n",
            "  \"user_id\": \"user123\"\n",
            "}\n",
            "追加結果2: {\n",
            "  \"message\": \"\\u4f1a\\u8a71\\u5c65\\u6b74\\u304c\\u8ffd\\u52a0\\u3055\\u308c\\u307e\\u3057\\u305f\",\n",
            "  \"status\": \"success\",\n",
            "  \"timestamp\": \"2025-06-04T19:37:17.003850\",\n",
            "  \"user_id\": \"user123\"\n",
            "}\n",
            "追加結果3: {\n",
            "  \"message\": \"\\u4f1a\\u8a71\\u5c65\\u6b74\\u304c\\u8ffd\\u52a0\\u3055\\u308c\\u307e\\u3057\\u305f\",\n",
            "  \"status\": \"success\",\n",
            "  \"timestamp\": \"2025-06-04T19:37:17.189225\",\n",
            "  \"user_id\": \"user456\"\n",
            "}\n"
          ]
        }
      ]
    },
    {
      "cell_type": "code",
      "source": [
        "# 類似する会話を検索\n",
        "print(\"user123：\")\n",
        "query_result1 = query_memory_for_similar_conversations(\"私はどんな果物が一番好き？\", user_id=\"user123\", top_k=1)  # 最も類似する結果を返す\n",
        "print(f\"{json.dumps(query_result1, indent=2)}\")\n",
        "\n",
        "print(\"\\nuser456：\")\n",
        "query_result2 = query_memory_for_similar_conversations(\"あなたの名前は何ですか\", user_id=\"user456\", top_k=1)\n",
        "print(f\"{json.dumps(query_result2, indent=2)}\")\n",
        "\n",
        "print(\"\\n関連する記憶がない会話を検索\")\n",
        "query_result3 = query_memory_for_similar_conversations(\"ピカチュウ\", user_id=\"user123\", top_k=1)\n",
        "print(f\"{json.dumps(query_result3, indent=2)}\")"
      ],
      "metadata": {
        "colab": {
          "base_uri": "https://localhost:8080/"
        },
        "id": "meYgfHHPGzJF",
        "outputId": "06bc3f95-3cb1-49a0-9f84-c91a06a2ea86"
      },
      "execution_count": 42,
      "outputs": [
        {
          "output_type": "stream",
          "name": "stdout",
          "text": [
            "user123：\n",
            "{\n",
            "  \"found_memories\": 1,\n",
            "  \"has_relevant_memory\": true,\n",
            "  \"memories\": [\n",
            "    {\n",
            "      \"assistant_response\": \"\\u306f\\u3044\\u3001\\u308f\\u304b\\u308a\\u307e\\u3057\\u305f\\u3002\",\n",
            "      \"id\": 20,\n",
            "      \"similarity\": 0.8011915683746338,\n",
            "      \"timestamp\": \"2025-06-04T19:36:44.662030\",\n",
            "      \"user_id\": \"user123\",\n",
            "      \"user_input\": \"\\u79c1\\u306f\\u308a\\u3093\\u3054\\u3092\\u98df\\u3079\\u308b\\u306e\\u304c\\u597d\\u304d\\u3067\\u3059\\u3002\"\n",
            "    }\n",
            "  ],\n",
            "  \"query\": \"\\u79c1\\u306f\\u3069\\u3093\\u306a\\u679c\\u7269\\u304c\\u4e00\\u756a\\u597d\\u304d\\uff1f\",\n",
            "  \"timestamp\": \"2025-06-04T19:40:27.595142\",\n",
            "  \"user_id\": \"user123\"\n",
            "}\n",
            "\n",
            "user456：\n",
            "{\n",
            "  \"found_memories\": 1,\n",
            "  \"has_relevant_memory\": true,\n",
            "  \"memories\": [\n",
            "    {\n",
            "      \"assistant_response\": \"\\u30c1\\u30e7\\u30b3\\u30df\\u30f3\\u30c8\\u3088\\u308a\\u3082 \\u3042\\u30fb\\u306a\\u30fb\\u305f\\uff01\",\n",
            "      \"id\": 22,\n",
            "      \"similarity\": 0.7098116278648376,\n",
            "      \"timestamp\": \"2025-06-04T19:36:45.034197\",\n",
            "      \"user_id\": \"user456\",\n",
            "      \"user_input\": \"\\u4f55\\u304c\\u597d\\u304d?\"\n",
            "    }\n",
            "  ],\n",
            "  \"query\": \"\\u3042\\u306a\\u305f\\u306e\\u540d\\u524d\\u306f\\u4f55\\u3067\\u3059\\u304b\",\n",
            "  \"timestamp\": \"2025-06-04T19:40:27.774930\",\n",
            "  \"user_id\": \"user456\"\n",
            "}\n",
            "\n",
            "関連する記憶がない会話を検索\n",
            "{\n",
            "  \"found_memories\": 0,\n",
            "  \"has_relevant_memory\": false,\n",
            "  \"memories\": [],\n",
            "  \"query\": \"\\u30d4\\u30ab\\u30c1\\u30e5\\u30a6\",\n",
            "  \"timestamp\": \"2025-06-04T19:40:27.957186\",\n",
            "  \"user_id\": \"user123\"\n",
            "}\n"
          ]
        }
      ]
    },
    {
      "cell_type": "code",
      "source": [
        "# 統計情報を取得\n",
        "stats = get_memory_stats()\n",
        "print(json.dumps(stats, indent=2))"
      ],
      "metadata": {
        "colab": {
          "base_uri": "https://localhost:8080/"
        },
        "id": "3ot3wu1nGouv",
        "outputId": "d21974ef-0c7d-4d3e-a717-1d0527538832"
      },
      "execution_count": 43,
      "outputs": [
        {
          "output_type": "stream",
          "name": "stdout",
          "text": [
            "{\n",
            "  \"max_memory_items\": 100,\n",
            "  \"similarity_threshold\": 0.7,\n",
            "  \"total_conversations\": 26,\n",
            "  \"total_embeddings\": 26\n",
            "}\n"
          ]
        }
      ]
    },
    {
      "cell_type": "code",
      "source": [
        "health_check()"
      ],
      "metadata": {
        "colab": {
          "base_uri": "https://localhost:8080/"
        },
        "id": "CTjc4erbVkSG",
        "outputId": "85d92aad-4608-4f0f-c183-863d3f200050"
      },
      "execution_count": 44,
      "outputs": [
        {
          "output_type": "stream",
          "name": "stdout",
          "text": [
            "ステータス: {\n",
            "  \"service\": \"Memory API\",\n",
            "  \"status\": \"healthy\",\n",
            "  \"timestamp\": \"2025-06-04T19:40:51.622284\"\n",
            "}\n"
          ]
        },
        {
          "output_type": "execute_result",
          "data": {
            "text/plain": [
              "True"
            ]
          },
          "metadata": {},
          "execution_count": 44
        }
      ]
    },
    {
      "cell_type": "code",
      "source": [
        "import google.generativeai as genai\n",
        "import time"
      ],
      "metadata": {
        "id": "AHsb0KtlI5v2"
      },
      "execution_count": 30,
      "outputs": []
    },
    {
      "cell_type": "code",
      "source": [
        "GEMINI_API_KEY = \"your_gemini_api\""
      ],
      "metadata": {
        "id": "VRSUV8bvI-fX"
      },
      "execution_count": 11,
      "outputs": []
    },
    {
      "cell_type": "code",
      "source": [
        "genai.configure(api_key=GEMINI_API_KEY)\n",
        "GEMINI_MODEL = genai.GenerativeModel('gemini-1.5-flash')"
      ],
      "metadata": {
        "id": "5U8e6DkTJHp-"
      },
      "execution_count": 33,
      "outputs": []
    },
    {
      "cell_type": "code",
      "source": [
        "def chat_with_gemini_and_memory(user_input: str, user_id: str = \"default\"):\n",
        "  \"\"\"\n",
        "  記憶 + Gemini API\n",
        "  Args:\n",
        "    user_input (str): ユーザーの入力\n",
        "    user_id (str): ユーザー ID\n",
        "  Returns:\n",
        "    str: Gemini モデルからの返答\n",
        "  \"\"\"\n",
        "  print(f\"\\n[{user_id}] 用戶輸入: {user_input}\")\n",
        "\n",
        "  # 記憶サービスを検索\n",
        "  query_results = query_memory_for_similar_conversations(user_input, user_id, top_k=2) # 関連する記憶を 2 件取得する\n",
        "\n",
        "  context_from_memory = \"\"\n",
        "  if query_results and query_results.get('has_relevant_memory', False):\n",
        "    memories = query_results['memories']\n",
        "    print(f\"{len(memories)} 件の関連する記憶が見つかりました\")\n",
        "    context_from_memory = \"以下は、過去に user と交わされた会話の一部で、返答に役立つかもしれません：\\n\"\n",
        "    for i, mem in enumerate(memories):\n",
        "      context_from_memory += f\" 会話記録: {i+1}:\\n\"\n",
        "      context_from_memory += f\"user: {mem['user_input']}\\n\"\n",
        "      context_from_memory += f\"あなた: {mem['assistant_response']}\\n\"\n",
        "  else:\n",
        "    print(\"関連する記憶が見つかりませんでした\")\n",
        "\n",
        "  # 記憶の文脈と現在の入力を統合する\n",
        "  full_prompt = f\"\"\"\n",
        "{context_from_memory}\n",
        "---次の入力は以下です:---\\n\n",
        "{user_input}\n",
        "\"\"\"\n",
        "  print(f\"--- Gemini に送信するプロンプト ---\")\n",
        "  print(full_prompt)\n",
        "  print(f\"----------------------------\")\n",
        "\n",
        "  # Gemini API を呼び出す\n",
        "  try:\n",
        "    response = GEMINI_MODEL.generate_content(full_prompt)\n",
        "    gemini_response = response.text\n",
        "    print(f\"Gemini 回應:\\n {gemini_response}\\n\")\n",
        "\n",
        "    # 現在の会話を記憶サービスに保存\n",
        "    add_conversation_to_memory(user_input, gemini_response, user_id)\n",
        "\n",
        "    return gemini_response\n",
        "\n",
        "  except Exception as e:\n",
        "    print(f\"Gemini API エラーまたは内容がブロックされました: {e}\")\n",
        "    return \"返答が得られませんでした\""
      ],
      "metadata": {
        "id": "BGGI8ZhzVupm"
      },
      "execution_count": 45,
      "outputs": []
    },
    {
      "cell_type": "code",
      "source": [
        "if __name__ == \"__main__\":\n",
        "  print(\"「exit」または「quit」と入力すると終了します。\\n\")\n",
        "  current_user_id = \"user123\"\n",
        "  print(f\"現在のユーザーID: {current_user_id}\")\n",
        "\n",
        "  while True:\n",
        "    user_input_text = input(\"あなたの入力: \")\n",
        "    if user_input_text.lower() in [\"exit\", \"quit\"]:\n",
        "      print(\"対話を終了します。\")\n",
        "      break\n",
        "\n",
        "    gemini_response = chat_with_gemini_and_memory(user_input_text, current_user_id)\n",
        "\n",
        "    time.sleep(1)"
      ],
      "metadata": {
        "colab": {
          "base_uri": "https://localhost:8080/",
          "height": 528
        },
        "id": "1PLD9m_YJLmI",
        "outputId": "f136ab8d-aa8c-4fcf-eb3e-550c2c609a01"
      },
      "execution_count": 46,
      "outputs": [
        {
          "output_type": "stream",
          "name": "stdout",
          "text": [
            "「exit」または「quit」と入力すると終了します。\n",
            "\n",
            "現在のユーザーID: user123\n",
            "あなたの入力: 私が好きな食べ物は何ですか？\n",
            "\n",
            "[user123] 用戶輸入: 私が好きな食べ物は何ですか？\n",
            "2 件の関連する記憶が見つかりました\n",
            "--- Gemini に送信するプロンプト ---\n",
            "\n",
            "以下は、過去に user と交わされた会話の一部で、返答に役立つかもしれません：\n",
            " 会話記録: 1:\n",
            "user: 私はりんごを食べるのが好きです。\n",
            "あなた: はい、わかりました。\n",
            " 会話記録: 2:\n",
            "user: 私はりんごを食べるのが好きです。\n",
            "あなた: はい、わかりました。\n",
            "\n",
            "---接下來是新的輸入:---\n",
            "\n",
            "私が好きな食べ物は何ですか？\n",
            "\n",
            "----------------------------\n",
            "Gemini 回應:\n",
            " 会話ログからは、あなたがリンゴが好きだという情報しか得られません。そのため、あなたが好きな食べ物は**リンゴ**です。\n",
            "\n",
            "\n",
            "あなたの入力: exit\n",
            "対話を終了します。\n"
          ]
        }
      ]
    }
  ]
}